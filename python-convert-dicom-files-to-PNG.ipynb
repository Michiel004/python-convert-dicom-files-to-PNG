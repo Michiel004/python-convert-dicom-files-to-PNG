{
 "cells": [
  {
   "cell_type": "code",
   "execution_count": null,
   "metadata": {},
   "outputs": [],
   "source": [
    "import numpy as np\n",
    "import png\n",
    "import glob\n",
    "import os\n",
    "import pydicom\n",
    "inputdir = './inputFolder'\n",
    "outdir = './outputFolder'\n",
    "\n",
    "test_list = [os.path.basename(x) for x in glob.glob(inputdir + '/*.dicom')]\n",
    "LengtList = len(test_list)\n",
    "#print(LengtList)\n",
    "count = 0\n",
    "for I in test_list:     \n",
    "    print(\"Progress\" + \" \" +  str(count/LengtList * 100) + \"%\")\n",
    "    ds = pydicom.dcmread(inputdir + \"/\" + I)\n",
    "\n",
    "    shape = ds.pixel_array.shape\n",
    "\n",
    "    # Convert to float to avoid overflow or underflow losses.\n",
    "    image_2d = ds.pixel_array.astype(float)\n",
    "\n",
    "    # Rescaling grey scale between 0-255\n",
    "    image_2d_scaled = (np.maximum(image_2d,0) / image_2d.max()) * 255.0\n",
    "\n",
    "    # Convert to uint\n",
    "    image_2d_scaled = np.uint8(image_2d_scaled)\n",
    "\n",
    "    # Write the PNG file\n",
    "    Text , Extention = I.split('.')\n",
    "    with open(outdir + \"/\" + Text + \".png\", 'wb') as png_file:\n",
    "        w = png.Writer(shape[1], shape[0], greyscale=True)\n",
    "        w.write(png_file, image_2d_scaled)\n",
    "    \n",
    "    count = count + 1"
   ]
  }
 ],
 "metadata": {
  "kernelspec": {
   "display_name": "Python 3",
   "language": "python",
   "name": "python3"
  },
  "language_info": {
   "codemirror_mode": {
    "name": "ipython",
    "version": 3
   },
   "file_extension": ".py",
   "mimetype": "text/x-python",
   "name": "python",
   "nbconvert_exporter": "python",
   "pygments_lexer": "ipython3",
   "version": "3.7.6"
  }
 },
 "nbformat": 4,
 "nbformat_minor": 4
}